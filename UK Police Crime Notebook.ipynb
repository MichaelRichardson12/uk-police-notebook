{
 "cells": [
  {
   "cell_type": "markdown",
   "metadata": {},
   "source": [
    "![Cover Image](https://github.com/MichaelRichardson12/uk-police-notebook/blob/master/header_image.png?raw=true)"
   ]
  },
  {
   "cell_type": "markdown",
   "metadata": {},
   "source": [
    "# Crime Stats in the UK\n",
    "#### October 2018 - October 2019"
   ]
  },
  {
   "cell_type": "markdown",
   "metadata": {},
   "source": [
    "In this note book I want to have a look at the crimes stats here in the UK for the past year. I am using the data provided by https://data.police.uk/, the data is under [Open Government Licence v3.0](https://www.nationalarchives.gov.uk/doc/open-government-licence/version/3/) license. This is just a personal project to better my data science skills and I hope you can find some interesting conclusions here."
   ]
  },
  {
   "cell_type": "markdown",
   "metadata": {},
   "source": [
    "## Work Flow\n",
    "\n",
    "I am going to use the following work flow:\n",
    "    1. Download the data from the link below and import it using Pandas.\n",
    "    2. Inspect the data to see what information is available.\n",
    "    3. Analyze the data.\n",
    "    4. Wrange, clean and prepare the data.\n",
    "    5. Try to model and predict the data.\n",
    "    6. Visualize, report, and present the findings.\n",
    "    \n",
    "Download link: [https://data.police.uk/data/](https://data.police.uk/data/)\n",
    "Useful links to explain the columns and get the different crime types, [https://data.police.uk/about/](https://data.police.uk/about/), [https://www.police.uk/about-this-site/faqs/#what-do-the-crime-categories-mean](https://www.police.uk/about-this-site/faqs/#what-do-the-crime-categories-mean).\n",
    "\n",
    "The cover picture was taken by Nikolay Dimitrov (@ncipio) from Unsplash."
   ]
  },
  {
   "cell_type": "code",
   "execution_count": 1,
   "metadata": {},
   "outputs": [],
   "source": [
    "# Data analysis and wrangling\n",
    "import os\n",
    "import pandas as pd\n",
    "import numpy as np\n",
    "\n",
    "# Visualization\n",
    "import matplotlib.pyplot as plt\n",
    "%matplotlib inline"
   ]
  },
  {
   "cell_type": "markdown",
   "metadata": {},
   "source": [
    "## Download the data\n",
    "\n",
    "The data file was about 500Mb for one years worth of data. When it was unzipped it was around 2Gb. GitHub doesn't allow you to upload such large files to a repo so I just left them out but I had the files locally under the fodler called 'data'.\n",
    "\n",
    "Here I got all of the contents of the data folder. Each month was a folder ('yyyy-MM.csv') and inside eash folder was the data for each of the police forces in the UK. It seemed that each county had a police force but I didn't go and check that. I loaded each csv file using Pandas and then joined it to the main dataframe so that all of the data was in one file."
   ]
  },
  {
   "cell_type": "code",
   "execution_count": 2,
   "metadata": {},
   "outputs": [
    {
     "name": "stdout",
     "output_type": "stream",
     "text": [
      "\n",
      "........................................................................................\n",
      "........................................................................................\n",
      "\n",
      "\n",
      "\n",
      "\n",
      "\n",
      "\n",
      "\n",
      "\n",
      "\n",
      "\n",
      "There is 2 months worth of data from 176 files\n"
     ]
    }
   ],
   "source": [
    "df = None\n",
    "months = []\n",
    "file_count = 0\n",
    "debug_limit = 2\n",
    "\n",
    "folder_list = os.listdir('data')\n",
    "for folder in folder_list:\n",
    "    print('')\n",
    "    if debug_limit > len(months):\n",
    "        months.append(folder)\n",
    "        for file in os.listdir('data/' + folder):\n",
    "            print('.', end = '')\n",
    "            df_temp = pd.read_csv('data/' + folder + '/' + file)\n",
    "\n",
    "            if df is None:\n",
    "                df = df_temp\n",
    "            else:\n",
    "                df = pd.concat([df, df_temp], sort=False, ignore_index=True)\n",
    "\n",
    "            file_count += 1\n",
    "\n",
    "print('There is {} months worth of data from {} files'.format(len(months), file_count))"
   ]
  },
  {
   "cell_type": "markdown",
   "metadata": {},
   "source": [
    "## Inspect the data\n",
    "\n",
    "Pandas helps describe the dataset to answer the following questions early on. Let print the column names out and have a look at some of the data in the columns."
   ]
  },
  {
   "cell_type": "code",
   "execution_count": 3,
   "metadata": {},
   "outputs": [
    {
     "name": "stdout",
     "output_type": "stream",
     "text": [
      "['Crime ID' 'Month' 'Reported by' 'Falls within' 'Longitude' 'Latitude'\n",
      " 'Location' 'LSOA code' 'LSOA name' 'Outcome type' 'Crime type'\n",
      " 'Last outcome category' 'Context']\n"
     ]
    }
   ],
   "source": [
    "print(df.columns.values)"
   ]
  },
  {
   "cell_type": "code",
   "execution_count": 4,
   "metadata": {},
   "outputs": [
    {
     "data": {
      "text/html": [
       "<div>\n",
       "<style scoped>\n",
       "    .dataframe tbody tr th:only-of-type {\n",
       "        vertical-align: middle;\n",
       "    }\n",
       "\n",
       "    .dataframe tbody tr th {\n",
       "        vertical-align: top;\n",
       "    }\n",
       "\n",
       "    .dataframe thead th {\n",
       "        text-align: right;\n",
       "    }\n",
       "</style>\n",
       "<table border=\"1\" class=\"dataframe\">\n",
       "  <thead>\n",
       "    <tr style=\"text-align: right;\">\n",
       "      <th></th>\n",
       "      <th>Crime ID</th>\n",
       "      <th>Month</th>\n",
       "      <th>Reported by</th>\n",
       "      <th>Falls within</th>\n",
       "      <th>Longitude</th>\n",
       "      <th>Latitude</th>\n",
       "      <th>Location</th>\n",
       "      <th>LSOA code</th>\n",
       "      <th>LSOA name</th>\n",
       "      <th>Outcome type</th>\n",
       "      <th>Crime type</th>\n",
       "      <th>Last outcome category</th>\n",
       "      <th>Context</th>\n",
       "    </tr>\n",
       "  </thead>\n",
       "  <tbody>\n",
       "    <tr>\n",
       "      <td>0</td>\n",
       "      <td>a1a5a8d0b1e24d7f8ee52b806c7605c50c8fe839f142a8...</td>\n",
       "      <td>2019-03</td>\n",
       "      <td>West Mercia Police</td>\n",
       "      <td>West Mercia Police</td>\n",
       "      <td>NaN</td>\n",
       "      <td>NaN</td>\n",
       "      <td>No location</td>\n",
       "      <td>NaN</td>\n",
       "      <td>NaN</td>\n",
       "      <td>Unable to prosecute suspect</td>\n",
       "      <td>NaN</td>\n",
       "      <td>NaN</td>\n",
       "      <td>NaN</td>\n",
       "    </tr>\n",
       "    <tr>\n",
       "      <td>1</td>\n",
       "      <td>07f0fe80ff0cfb2c9c701e4b2d799cb03ebc25bca82356...</td>\n",
       "      <td>2019-03</td>\n",
       "      <td>West Mercia Police</td>\n",
       "      <td>West Mercia Police</td>\n",
       "      <td>NaN</td>\n",
       "      <td>NaN</td>\n",
       "      <td>No location</td>\n",
       "      <td>NaN</td>\n",
       "      <td>NaN</td>\n",
       "      <td>Unable to prosecute suspect</td>\n",
       "      <td>NaN</td>\n",
       "      <td>NaN</td>\n",
       "      <td>NaN</td>\n",
       "    </tr>\n",
       "    <tr>\n",
       "      <td>2</td>\n",
       "      <td>843e533914dd107c15506ffc847f646d61b47c543a9999...</td>\n",
       "      <td>2019-03</td>\n",
       "      <td>West Mercia Police</td>\n",
       "      <td>West Mercia Police</td>\n",
       "      <td>NaN</td>\n",
       "      <td>NaN</td>\n",
       "      <td>No location</td>\n",
       "      <td>NaN</td>\n",
       "      <td>NaN</td>\n",
       "      <td>Investigation complete; no suspect identified</td>\n",
       "      <td>NaN</td>\n",
       "      <td>NaN</td>\n",
       "      <td>NaN</td>\n",
       "    </tr>\n",
       "    <tr>\n",
       "      <td>3</td>\n",
       "      <td>891b76792b62c4aa3292184bafb752caf3e7ef2e958f5c...</td>\n",
       "      <td>2019-03</td>\n",
       "      <td>West Mercia Police</td>\n",
       "      <td>West Mercia Police</td>\n",
       "      <td>NaN</td>\n",
       "      <td>NaN</td>\n",
       "      <td>No location</td>\n",
       "      <td>NaN</td>\n",
       "      <td>NaN</td>\n",
       "      <td>Unable to prosecute suspect</td>\n",
       "      <td>NaN</td>\n",
       "      <td>NaN</td>\n",
       "      <td>NaN</td>\n",
       "    </tr>\n",
       "    <tr>\n",
       "      <td>4</td>\n",
       "      <td>a542cc68dbd9a5a0d9a2030435565e91835770cf73a25a...</td>\n",
       "      <td>2019-03</td>\n",
       "      <td>West Mercia Police</td>\n",
       "      <td>West Mercia Police</td>\n",
       "      <td>NaN</td>\n",
       "      <td>NaN</td>\n",
       "      <td>No location</td>\n",
       "      <td>NaN</td>\n",
       "      <td>NaN</td>\n",
       "      <td>Unable to prosecute suspect</td>\n",
       "      <td>NaN</td>\n",
       "      <td>NaN</td>\n",
       "      <td>NaN</td>\n",
       "    </tr>\n",
       "  </tbody>\n",
       "</table>\n",
       "</div>"
      ],
      "text/plain": [
       "                                            Crime ID    Month  \\\n",
       "0  a1a5a8d0b1e24d7f8ee52b806c7605c50c8fe839f142a8...  2019-03   \n",
       "1  07f0fe80ff0cfb2c9c701e4b2d799cb03ebc25bca82356...  2019-03   \n",
       "2  843e533914dd107c15506ffc847f646d61b47c543a9999...  2019-03   \n",
       "3  891b76792b62c4aa3292184bafb752caf3e7ef2e958f5c...  2019-03   \n",
       "4  a542cc68dbd9a5a0d9a2030435565e91835770cf73a25a...  2019-03   \n",
       "\n",
       "          Reported by        Falls within  Longitude  Latitude     Location  \\\n",
       "0  West Mercia Police  West Mercia Police        NaN       NaN  No location   \n",
       "1  West Mercia Police  West Mercia Police        NaN       NaN  No location   \n",
       "2  West Mercia Police  West Mercia Police        NaN       NaN  No location   \n",
       "3  West Mercia Police  West Mercia Police        NaN       NaN  No location   \n",
       "4  West Mercia Police  West Mercia Police        NaN       NaN  No location   \n",
       "\n",
       "  LSOA code LSOA name                                   Outcome type  \\\n",
       "0       NaN       NaN                    Unable to prosecute suspect   \n",
       "1       NaN       NaN                    Unable to prosecute suspect   \n",
       "2       NaN       NaN  Investigation complete; no suspect identified   \n",
       "3       NaN       NaN                    Unable to prosecute suspect   \n",
       "4       NaN       NaN                    Unable to prosecute suspect   \n",
       "\n",
       "  Crime type Last outcome category  Context  \n",
       "0        NaN                   NaN      NaN  \n",
       "1        NaN                   NaN      NaN  \n",
       "2        NaN                   NaN      NaN  \n",
       "3        NaN                   NaN      NaN  \n",
       "4        NaN                   NaN      NaN  "
      ]
     },
     "execution_count": 4,
     "metadata": {},
     "output_type": "execute_result"
    }
   ],
   "source": [
    "df.head()"
   ]
  },
  {
   "cell_type": "markdown",
   "metadata": {},
   "source": [
    "###### What feature are available in the dataset?"
   ]
  },
  {
   "cell_type": "markdown",
   "metadata": {},
   "source": [
    "| Column         | Description                                  |\n",
    "| :--------------|:---------------------------------------------|\n",
    "| Crime ID       | This is the ID provided by the dataset.      |\n",
    "| Month          | This is the same as the folder the data came from, it is the month the crime happened.      |\n",
    "| Reported by    | The force that provided the data about the crime.      |\n",
    "| Falls within   | The force that provided the data about the crime.      |\n",
    "| Longitude      | The anonymised latitude of the coordinates of the crime.      |\n",
    "| Latitude       | The anonymised longitude of the coordinates of the crime.     |\n",
    "| Location       | The name of the sreet the incident occurred.     |\n",
    "| LSOA code      | References to the Lower Layer Super Output Area that the anonymised point falls into.      |\n",
    "| LSOA name      | References to the Lower Layer Super Output Area that the anonymised point falls into.      |\n",
    "| Outcome type   | The outcome of the prosecution.      |\n",
    "| Crime type     | The type of crime commited.     |\n",
    "| Last outcome category   | A reference to whichever of the outcomes associated with the crime occurred most recently.        |\n",
    "| Context        | A field provided for forces to provide additional human-readable data about individual crimes.|\n",
    "\n",
    "\n",
    "###### Which features are categorical?\n",
    "\n",
    "These values classify the samples into sets of similar samples. Within categorical features are the values nominal, ordinal, ratio, or interval based? Among other things this helps us select the appropriate plots for visualization.\n",
    "\n",
    "    - Categorical: Reported by, Falls within, LSOA code, Outcome type, LSOA name, Crime type. \n",
    "\n",
    "\n",
    "###### Which features are numerical?\n",
    "\n",
    "These values differ from sample to sample. Are these features discrete, continuous or time based values?\n",
    "\n",
    "    - Continous: Latitude, Longitude. \n",
    "    - Discrete: None.\n",
    "    - Time: Month.\n",
    "\n",
    "###### Which features are mixed data types?\n",
    "\n",
    "Numerical, alphanumeric data within same feature. These are candidates for correcting goal.\n",
    "\n",
    "    - There are no mixed data types in the dataset\n",
    "\n",
    "###### Which features may contain errors or typos?\n",
    "\n",
    "This is more difficult to review for a large dataset as you can't go through each row and review it.\n",
    "\n",
    "    - Luckily here there are no rows that will cause any errors.\n",
    "\n",
    "###### Which features contain blank, null or empty values?\n",
    "\n",
    "This is easy to review as we can just count the number of missing entries in the dataset. These features may require correcting or dropped.\n",
    "\n",
    "    - The location properties, crime type and last outcome category all have null entries."
   ]
  },
  {
   "cell_type": "code",
   "execution_count": 5,
   "metadata": {},
   "outputs": [
    {
     "data": {
      "text/plain": [
       "Crime ID                  238418\n",
       "Month                          0\n",
       "Reported by                    0\n",
       "Falls within                   0\n",
       "Longitude                  41564\n",
       "Latitude                   41564\n",
       "Location                       0\n",
       "LSOA code                  68241\n",
       "LSOA name                  68241\n",
       "Outcome type             1131473\n",
       "Crime type                758772\n",
       "Last outcome category    1014496\n",
       "Context                  1890245\n",
       "dtype: int64"
      ]
     },
     "execution_count": 5,
     "metadata": {},
     "output_type": "execute_result"
    }
   ],
   "source": [
    "df.isnull().sum()"
   ]
  },
  {
   "cell_type": "markdown",
   "metadata": {},
   "source": [
    "###### What are the data types for various features?\n",
    "\n",
    "There are 3 floats (coordinates) and the rest are strings/objects."
   ]
  },
  {
   "cell_type": "code",
   "execution_count": 6,
   "metadata": {},
   "outputs": [
    {
     "name": "stdout",
     "output_type": "stream",
     "text": [
      "<class 'pandas.core.frame.DataFrame'>\n",
      "RangeIndex: 1890245 entries, 0 to 1890244\n",
      "Data columns (total 13 columns):\n",
      "Crime ID                 object\n",
      "Month                    object\n",
      "Reported by              object\n",
      "Falls within             object\n",
      "Longitude                float64\n",
      "Latitude                 float64\n",
      "Location                 object\n",
      "LSOA code                object\n",
      "LSOA name                object\n",
      "Outcome type             object\n",
      "Crime type               object\n",
      "Last outcome category    object\n",
      "Context                  float64\n",
      "dtypes: float64(3), object(10)\n",
      "memory usage: 187.5+ MB\n"
     ]
    }
   ],
   "source": [
    "df.info()"
   ]
  },
  {
   "cell_type": "markdown",
   "metadata": {},
   "source": [
    "###### What is the distribution of categorical features?\n",
    "    - There are 45 counties (Reported by)\n",
    "    - There are 23 different outcome types\n",
    "    - There are 14 categories of crime\n",
    "    - There are 26 last outcome types"
   ]
  },
  {
   "cell_type": "code",
   "execution_count": 7,
   "metadata": {},
   "outputs": [
    {
     "data": {
      "text/html": [
       "<div>\n",
       "<style scoped>\n",
       "    .dataframe tbody tr th:only-of-type {\n",
       "        vertical-align: middle;\n",
       "    }\n",
       "\n",
       "    .dataframe tbody tr th {\n",
       "        vertical-align: top;\n",
       "    }\n",
       "\n",
       "    .dataframe thead th {\n",
       "        text-align: right;\n",
       "    }\n",
       "</style>\n",
       "<table border=\"1\" class=\"dataframe\">\n",
       "  <thead>\n",
       "    <tr style=\"text-align: right;\">\n",
       "      <th></th>\n",
       "      <th>Crime ID</th>\n",
       "      <th>Month</th>\n",
       "      <th>Reported by</th>\n",
       "      <th>Falls within</th>\n",
       "      <th>Location</th>\n",
       "      <th>LSOA code</th>\n",
       "      <th>LSOA name</th>\n",
       "      <th>Outcome type</th>\n",
       "      <th>Crime type</th>\n",
       "      <th>Last outcome category</th>\n",
       "    </tr>\n",
       "  </thead>\n",
       "  <tbody>\n",
       "    <tr>\n",
       "      <td>count</td>\n",
       "      <td>1651827</td>\n",
       "      <td>1890245</td>\n",
       "      <td>1890245</td>\n",
       "      <td>1890245</td>\n",
       "      <td>1890245</td>\n",
       "      <td>1822004</td>\n",
       "      <td>1822004</td>\n",
       "      <td>758772</td>\n",
       "      <td>1131473</td>\n",
       "      <td>875749</td>\n",
       "    </tr>\n",
       "    <tr>\n",
       "      <td>unique</td>\n",
       "      <td>1124274</td>\n",
       "      <td>2</td>\n",
       "      <td>45</td>\n",
       "      <td>45</td>\n",
       "      <td>276374</td>\n",
       "      <td>34742</td>\n",
       "      <td>34742</td>\n",
       "      <td>24</td>\n",
       "      <td>14</td>\n",
       "      <td>26</td>\n",
       "    </tr>\n",
       "    <tr>\n",
       "      <td>top</td>\n",
       "      <td>e22dfff770cd32f54941621e0b4a1000168dfa2fbfbd6a...</td>\n",
       "      <td>2019-03</td>\n",
       "      <td>Metropolitan Police Service</td>\n",
       "      <td>Metropolitan Police Service</td>\n",
       "      <td>On or near Supermarket</td>\n",
       "      <td>E01033010</td>\n",
       "      <td>Leeds 111B</td>\n",
       "      <td>Investigation complete; no suspect identified</td>\n",
       "      <td>Violence and sexual offences</td>\n",
       "      <td>Investigation complete; no suspect identified</td>\n",
       "    </tr>\n",
       "    <tr>\n",
       "      <td>freq</td>\n",
       "      <td>29</td>\n",
       "      <td>975615</td>\n",
       "      <td>236645</td>\n",
       "      <td>236645</td>\n",
       "      <td>68373</td>\n",
       "      <td>3060</td>\n",
       "      <td>3060</td>\n",
       "      <td>320908</td>\n",
       "      <td>320601</td>\n",
       "      <td>285358</td>\n",
       "    </tr>\n",
       "  </tbody>\n",
       "</table>\n",
       "</div>"
      ],
      "text/plain": [
       "                                                 Crime ID    Month  \\\n",
       "count                                             1651827  1890245   \n",
       "unique                                            1124274        2   \n",
       "top     e22dfff770cd32f54941621e0b4a1000168dfa2fbfbd6a...  2019-03   \n",
       "freq                                                   29   975615   \n",
       "\n",
       "                        Reported by                 Falls within  \\\n",
       "count                       1890245                      1890245   \n",
       "unique                           45                           45   \n",
       "top     Metropolitan Police Service  Metropolitan Police Service   \n",
       "freq                         236645                       236645   \n",
       "\n",
       "                      Location  LSOA code   LSOA name  \\\n",
       "count                  1890245    1822004     1822004   \n",
       "unique                  276374      34742       34742   \n",
       "top     On or near Supermarket  E01033010  Leeds 111B   \n",
       "freq                     68373       3060        3060   \n",
       "\n",
       "                                         Outcome type  \\\n",
       "count                                          758772   \n",
       "unique                                             24   \n",
       "top     Investigation complete; no suspect identified   \n",
       "freq                                           320908   \n",
       "\n",
       "                          Crime type  \\\n",
       "count                        1131473   \n",
       "unique                            14   \n",
       "top     Violence and sexual offences   \n",
       "freq                          320601   \n",
       "\n",
       "                                Last outcome category  \n",
       "count                                          875749  \n",
       "unique                                             26  \n",
       "top     Investigation complete; no suspect identified  \n",
       "freq                                           285358  "
      ]
     },
     "execution_count": 7,
     "metadata": {},
     "output_type": "execute_result"
    }
   ],
   "source": [
    "df.describe(include=['O'])"
   ]
  },
  {
   "cell_type": "markdown",
   "metadata": {},
   "source": [
    "###### Correcting\n",
    "\n",
    "    1. The crime ID can be dropped.\n",
    "    2. The falls within column can be dropped.\n",
    "    3. Both of the LSOA columns can be dropped.\n",
    "    4. The context can be dropped as it has no entries\n",
    "    \n",
    "We may just want to replace the missing data in crime type and outcome type with a 'missing' field. The latitude and longitude might not be important at the moment but we could use it to plot on a map the different areas where crime occurs."
   ]
  },
  {
   "cell_type": "markdown",
   "metadata": {},
   "source": [
    "## Wrangle, clean and prepare data\n",
    "\n"
   ]
  },
  {
   "cell_type": "code",
   "execution_count": 8,
   "metadata": {},
   "outputs": [],
   "source": [
    "data = df.copy()"
   ]
  },
  {
   "cell_type": "code",
   "execution_count": 9,
   "metadata": {},
   "outputs": [],
   "source": [
    "# Drop the columns that aren't needed\n",
    "df = df.drop(columns=['Crime ID', 'Falls within', 'LSOA code', 'LSOA name', 'Context'])"
   ]
  },
  {
   "cell_type": "code",
   "execution_count": 10,
   "metadata": {},
   "outputs": [],
   "source": [
    "# Fill in the NaN entries\n",
    "df['Outcome type'] = df['Outcome type'].fillna('No outcome yet')\n",
    "df['Crime type'] = df['Crime type'].fillna('Not available')\n",
    "df['Last outcome category'] = df['Last outcome category'].fillna('No outcome yet')"
   ]
  },
  {
   "cell_type": "code",
   "execution_count": 11,
   "metadata": {},
   "outputs": [],
   "source": [
    "# Rename columns\n",
    "df.columns = ['month', 'reported_by', 'lat', 'lng', 'location', 'outcome', 'crime', 'last_outcome']"
   ]
  },
  {
   "cell_type": "code",
   "execution_count": 12,
   "metadata": {},
   "outputs": [],
   "source": [
    "# Reduce the number of outcomes\n",
    "outcome_mapping = {\n",
    "    \"Action to be taken by another organisation\": \"Pending\", \n",
    "    \"Court case unable to proceed\": \"Dismissed\", \n",
    "    \"Defendant found not guilty\": \"Dismissed\", \n",
    "    \"Defendant sent to Crown Court\": \"Pending\", \n",
    "    \"Formal action is not in the public interest\": \"Other\",\n",
    "    \"Investigation complete; no suspect identified\": \"Dismissed\",\n",
    "    \"Local resolution\": \"Dismissed\",\n",
    "    \"No outcome yet\": \"Pending\",\n",
    "    \"Offender deprived of property\": \"Sentenced\",\n",
    "    \"Offender fined\": \"Sentenced\",\n",
    "    \"Offender given a caution\": \"Sentenced\",\n",
    "    \"Offender given a drugs possession warning\": \"Sentenced\",\n",
    "    \"Offender given absolute discharge\": \"Sentenced\",\n",
    "    \"Offender given community sentence\": \"Sentenced\",\n",
    "    \"Offender given conditional discharge\": \"Sentenced\",\n",
    "    \"Offender given penalty notice\": \"Sentenced\",\n",
    "    \"Offender given suspended prison sentence\": \"Sentenced\",\n",
    "    \"Offender ordered to pay compensation\": \"Sentenced\",\n",
    "    \"Offender otherwise dealt with\": \"Sentenced\",\n",
    "    \"Offender sent to prison\": \"Sentenced\",\n",
    "    \"Suspect charged\": \"Sentenced\",\n",
    "    \"Suspect charged as part of another case\": \"Sentenced\",\n",
    "    \"Unable to prosecute suspect\": \"Dismissed\"\n",
    "}\n",
    "\n",
    "df['r_outcome'] = df['outcome'].map(outcome_mapping)"
   ]
  },
  {
   "cell_type": "code",
   "execution_count": 13,
   "metadata": {},
   "outputs": [
    {
     "data": {
      "text/html": [
       "<div>\n",
       "<style scoped>\n",
       "    .dataframe tbody tr th:only-of-type {\n",
       "        vertical-align: middle;\n",
       "    }\n",
       "\n",
       "    .dataframe tbody tr th {\n",
       "        vertical-align: top;\n",
       "    }\n",
       "\n",
       "    .dataframe thead th {\n",
       "        text-align: right;\n",
       "    }\n",
       "</style>\n",
       "<table border=\"1\" class=\"dataframe\">\n",
       "  <thead>\n",
       "    <tr style=\"text-align: right;\">\n",
       "      <th></th>\n",
       "      <th>month</th>\n",
       "      <th>reported_by</th>\n",
       "      <th>lat</th>\n",
       "      <th>lng</th>\n",
       "      <th>location</th>\n",
       "      <th>outcome</th>\n",
       "      <th>crime</th>\n",
       "      <th>last_outcome</th>\n",
       "      <th>r_outcome</th>\n",
       "      <th>r_crime</th>\n",
       "    </tr>\n",
       "  </thead>\n",
       "  <tbody>\n",
       "    <tr>\n",
       "      <td>0</td>\n",
       "      <td>2019-03</td>\n",
       "      <td>West Mercia Police</td>\n",
       "      <td>NaN</td>\n",
       "      <td>NaN</td>\n",
       "      <td>No location</td>\n",
       "      <td>Unable to prosecute suspect</td>\n",
       "      <td>Not available</td>\n",
       "      <td>No outcome yet</td>\n",
       "      <td>Dismissed</td>\n",
       "      <td>Not available</td>\n",
       "    </tr>\n",
       "    <tr>\n",
       "      <td>1</td>\n",
       "      <td>2019-03</td>\n",
       "      <td>West Mercia Police</td>\n",
       "      <td>NaN</td>\n",
       "      <td>NaN</td>\n",
       "      <td>No location</td>\n",
       "      <td>Unable to prosecute suspect</td>\n",
       "      <td>Not available</td>\n",
       "      <td>No outcome yet</td>\n",
       "      <td>Dismissed</td>\n",
       "      <td>Not available</td>\n",
       "    </tr>\n",
       "    <tr>\n",
       "      <td>2</td>\n",
       "      <td>2019-03</td>\n",
       "      <td>West Mercia Police</td>\n",
       "      <td>NaN</td>\n",
       "      <td>NaN</td>\n",
       "      <td>No location</td>\n",
       "      <td>Investigation complete; no suspect identified</td>\n",
       "      <td>Not available</td>\n",
       "      <td>No outcome yet</td>\n",
       "      <td>Dismissed</td>\n",
       "      <td>Not available</td>\n",
       "    </tr>\n",
       "    <tr>\n",
       "      <td>3</td>\n",
       "      <td>2019-03</td>\n",
       "      <td>West Mercia Police</td>\n",
       "      <td>NaN</td>\n",
       "      <td>NaN</td>\n",
       "      <td>No location</td>\n",
       "      <td>Unable to prosecute suspect</td>\n",
       "      <td>Not available</td>\n",
       "      <td>No outcome yet</td>\n",
       "      <td>Dismissed</td>\n",
       "      <td>Not available</td>\n",
       "    </tr>\n",
       "    <tr>\n",
       "      <td>4</td>\n",
       "      <td>2019-03</td>\n",
       "      <td>West Mercia Police</td>\n",
       "      <td>NaN</td>\n",
       "      <td>NaN</td>\n",
       "      <td>No location</td>\n",
       "      <td>Unable to prosecute suspect</td>\n",
       "      <td>Not available</td>\n",
       "      <td>No outcome yet</td>\n",
       "      <td>Dismissed</td>\n",
       "      <td>Not available</td>\n",
       "    </tr>\n",
       "  </tbody>\n",
       "</table>\n",
       "</div>"
      ],
      "text/plain": [
       "     month         reported_by  lat  lng     location  \\\n",
       "0  2019-03  West Mercia Police  NaN  NaN  No location   \n",
       "1  2019-03  West Mercia Police  NaN  NaN  No location   \n",
       "2  2019-03  West Mercia Police  NaN  NaN  No location   \n",
       "3  2019-03  West Mercia Police  NaN  NaN  No location   \n",
       "4  2019-03  West Mercia Police  NaN  NaN  No location   \n",
       "\n",
       "                                         outcome          crime  \\\n",
       "0                    Unable to prosecute suspect  Not available   \n",
       "1                    Unable to prosecute suspect  Not available   \n",
       "2  Investigation complete; no suspect identified  Not available   \n",
       "3                    Unable to prosecute suspect  Not available   \n",
       "4                    Unable to prosecute suspect  Not available   \n",
       "\n",
       "     last_outcome  r_outcome        r_crime  \n",
       "0  No outcome yet  Dismissed  Not available  \n",
       "1  No outcome yet  Dismissed  Not available  \n",
       "2  No outcome yet  Dismissed  Not available  \n",
       "3  No outcome yet  Dismissed  Not available  \n",
       "4  No outcome yet  Dismissed  Not available  "
      ]
     },
     "execution_count": 13,
     "metadata": {},
     "output_type": "execute_result"
    }
   ],
   "source": [
    "# Reduce the number of crimes\n",
    "crime_mapping = {\n",
    "    \"Anti-social behaviour\": \"Minor\", \n",
    "    \"Bicycle theft\": \"Minor\", \n",
    "    \"Burglary\": \"Intermediate\", \n",
    "    \"Criminal damage and arson\": \"Major\", \n",
    "    \"Drugs\": \"Major\",\n",
    "    \"Not available\": \"Not available\",\n",
    "    \"Other crime\": \"Major\",\n",
    "    \"Other theft\": \"Intermediate\",\n",
    "    \"Possession of weapons\": \"Intermediate\",\n",
    "    \"Public order\": \"Minor\",\n",
    "    \"Robbery\": \"Major\",\n",
    "    \"Shoplifting\": \"Minor\",\n",
    "    \"Theft from the person\": \"Major\",\n",
    "    \"Vehicle crime\": \"Intermediate\",\n",
    "    \"Violence and sexual offences\": \"Major\"\n",
    "}\n",
    "\n",
    "df['r_crime'] = df['crime'].map(crime_mapping)\n",
    "df.head()"
   ]
  },
  {
   "cell_type": "markdown",
   "metadata": {},
   "source": [
    "## Analyze the data by visualization"
   ]
  },
  {
   "cell_type": "markdown",
   "metadata": {},
   "source": [
    "#### Types of outcomes\n",
    "\n",
    "Visualise the total break down of outcomes that occurs overall and the latest month."
   ]
  },
  {
   "cell_type": "code",
   "execution_count": 14,
   "metadata": {},
   "outputs": [],
   "source": [
    "df_crime_total = df.groupby(['r_outcome']).size().reset_index()\n",
    "df_crime_total.rename(columns={0: 'count'}, inplace=True)\n",
    "\n",
    "df_crime_pm = df.groupby(['month', 'r_outcome']).size().reset_index()\n",
    "df_crime_pm.rename(columns={0: 'count'}, inplace=True)\n",
    "df_crime_pm = df_crime_pm[df_crime_pm.month == '2019-04']"
   ]
  },
  {
   "cell_type": "code",
   "execution_count": 15,
   "metadata": {},
   "outputs": [
    {
     "data": {
      "image/png": "[encoded data removed]",
      "text/plain": [
       "<Figure size 1080x360 with 2 Axes>"
      ]
     },
     "metadata": {},
     "output_type": "display_data"
    }
   ],
   "source": [
    "fig, (ax1, ax2) = plt.subplots(1, 2, figsize=(15,5))\n",
    "ax1.pie(df_crime_total['count'], labels=df_crime_total['r_outcome'], autopct='%1.1f%%', startangle=90)\n",
    "ax1.axis('equal')\n",
    "\n",
    "ax2.pie(df_crime_pm['count'], labels=df_crime_pm['r_outcome'], autopct='%1.1f%%', startangle=90)\n",
    "ax2.axis('equal')\n",
    "\n",
    "plt.show()"
   ]
  },
  {
   "cell_type": "markdown",
   "metadata": {},
   "source": [
    "###### Observations:\n",
    "\n",
    "###### Decisions:"
   ]
  },
  {
   "cell_type": "markdown",
   "metadata": {},
   "source": [
    "#### Types of crime\n",
    "\n",
    "Visualise the total break down of crimes that occurs overall and the latest month."
   ]
  },
  {
   "cell_type": "code",
   "execution_count": 16,
   "metadata": {},
   "outputs": [],
   "source": [
    "df_crime_total = df.groupby(['r_crime']).size().reset_index()\n",
    "df_crime_total.rename(columns={0: 'count'}, inplace=True)\n",
    "\n",
    "df_crime_type = df.groupby(['month', 'r_crime']).size().reset_index()\n",
    "df_crime_type.rename(columns={0: 'count'}, inplace=True)\n",
    "df_crime_type = df_crime_type[df_crime_type.month == '2019-04']"
   ]
  },
  {
   "cell_type": "code",
   "execution_count": 17,
   "metadata": {},
   "outputs": [
    {
     "data": {
      "image/png": "[encoded data removed]",
      "text/plain": [
       "<Figure size 1080x360 with 2 Axes>"
      ]
     },
     "metadata": {},
     "output_type": "display_data"
    }
   ],
   "source": [
    "fig, (ax1, ax2) = plt.subplots(1, 2, figsize=(15,5))\n",
    "ax1.pie(df_crime_total['count'], labels=df_crime_total['r_crime'], autopct='%1.1f%%', startangle=90)\n",
    "ax1.axis('equal')\n",
    "\n",
    "ax2.pie(df_crime_type['count'], labels=df_crime_type['r_crime'], autopct='%1.1f%%', startangle=90)\n",
    "ax2.axis('equal')\n",
    "\n",
    "plt.show()"
   ]
  },
  {
   "cell_type": "markdown",
   "metadata": {},
   "source": [
    "###### Observations:\n",
    "\n",
    "###### Decisions:"
   ]
  },
  {
   "cell_type": "markdown",
   "metadata": {},
   "source": [
    "#### Average crime"
   ]
  },
  {
   "cell_type": "code",
   "execution_count": 18,
   "metadata": {},
   "outputs": [],
   "source": [
    "df_total = df.groupby(['month']).size().reset_index()\n",
    "df_total['average'] = df_total.rolling(len(df_total)).mean()\n",
    "df_total.rename(columns={0: 'count'}, inplace=True)\n",
    "df_total['average'] = df_total['average'].fillna(df_total['count'][0])"
   ]
  },
  {
   "cell_type": "code",
   "execution_count": 19,
   "metadata": {},
   "outputs": [
    {
     "data": {
      "image/png": "[encoded data removed]",
      "text/plain": [
       "<Figure size 432x288 with 1 Axes>"
      ]
     },
     "metadata": {
      "needs_background": "light"
     },
     "output_type": "display_data"
    }
   ],
   "source": [
    "plt.bar(df_total.month, df_total['count'], align='center', alpha=0.5)\n",
    "plt.plot(df_total.month, df_total.average, lw=2, c='r', alpha=0.5)\n",
    "plt.xticks(rotation=90)\n",
    "plt.ylabel('Count')\n",
    "plt.xlabel('Crime')\n",
    "plt.title('Average Crime')\n",
    "\n",
    "plt.show()"
   ]
  },
  {
   "cell_type": "markdown",
   "metadata": {},
   "source": [
    "###### Observations:\n",
    "\n",
    "###### Decisions:"
   ]
  },
  {
   "cell_type": "code",
   "execution_count": null,
   "metadata": {},
   "outputs": [],
   "source": []
  },
  {
   "cell_type": "code",
   "execution_count": null,
   "metadata": {},
   "outputs": [],
   "source": []
  },
  {
   "cell_type": "code",
   "execution_count": null,
   "metadata": {},
   "outputs": [],
   "source": []
  },
  {
   "cell_type": "markdown",
   "metadata": {},
   "source": [
    "## Model, predict and solve"
   ]
  },
  {
   "cell_type": "code",
   "execution_count": 20,
   "metadata": {},
   "outputs": [],
   "source": [
    "# machine learning\n",
    "from sklearn.linear_model import LogisticRegression\n",
    "from sklearn.svm import SVC, LinearSVC\n",
    "from sklearn.ensemble import RandomForestClassifier\n",
    "from sklearn.neighbors import KNeighborsClassifier\n",
    "from sklearn.naive_bayes import GaussianNB\n",
    "from sklearn.linear_model import Perceptron\n",
    "from sklearn.linear_model import SGDClassifier\n",
    "from sklearn.tree import DecisionTreeClassifier\n",
    "from sklearn.model_selection import train_test_split"
   ]
  },
  {
   "cell_type": "code",
   "execution_count": 21,
   "metadata": {},
   "outputs": [
    {
     "data": {
      "text/plain": [
       "month                2\n",
       "reported_by         45\n",
       "lat             377404\n",
       "lng             368943\n",
       "location        276374\n",
       "outcome             25\n",
       "crime               15\n",
       "last_outcome        27\n",
       "r_outcome            4\n",
       "r_crime              4\n",
       "dtype: int64"
      ]
     },
     "execution_count": 21,
     "metadata": {},
     "output_type": "execute_result"
    }
   ],
   "source": [
    "df.nunique()"
   ]
  },
  {
   "cell_type": "code",
   "execution_count": 22,
   "metadata": {},
   "outputs": [],
   "source": [
    "df_model = df.copy()\n",
    "\n",
    "df_model = df_model.dropna(subset=['r_outcome'])\n",
    "df_model.reported_by = pd.Categorical(df_model.reported_by)\n",
    "df_model.r_outcome = pd.Categorical(df_model.r_outcome)\n",
    "\n",
    "df_model.reported_by = df_model.reported_by.cat.codes\n",
    "df_model.r_outcome = df_model.r_outcome.cat.codes\n",
    "\n",
    "df_model['r_crime'] = pd.Categorical(df_model['r_crime'])\n",
    "crimes = pd.get_dummies(df_model['r_crime'], prefix = 'crime_')\n",
    "df_model = pd.concat([df_model, crimes], axis=1)\n",
    "\n",
    "df_model = df_model.drop(columns=['month', 'lat', 'lng', 'location', 'outcome', 'r_crime', 'last_outcome', 'crime'])"
   ]
  },
  {
   "cell_type": "code",
   "execution_count": 23,
   "metadata": {},
   "outputs": [
    {
     "data": {
      "text/plain": [
       "reported_by             45\n",
       "r_outcome                4\n",
       "crime__Intermediate      2\n",
       "crime__Major             2\n",
       "crime__Minor             2\n",
       "crime__Not available     2\n",
       "dtype: int64"
      ]
     },
     "execution_count": 23,
     "metadata": {},
     "output_type": "execute_result"
    }
   ],
   "source": [
    "df_model.nunique()"
   ]
  },
  {
   "cell_type": "code",
   "execution_count": 24,
   "metadata": {},
   "outputs": [
    {
     "data": {
      "text/html": [
       "<div>\n",
       "<style scoped>\n",
       "    .dataframe tbody tr th:only-of-type {\n",
       "        vertical-align: middle;\n",
       "    }\n",
       "\n",
       "    .dataframe tbody tr th {\n",
       "        vertical-align: top;\n",
       "    }\n",
       "\n",
       "    .dataframe thead th {\n",
       "        text-align: right;\n",
       "    }\n",
       "</style>\n",
       "<table border=\"1\" class=\"dataframe\">\n",
       "  <thead>\n",
       "    <tr style=\"text-align: right;\">\n",
       "      <th></th>\n",
       "      <th>reported_by</th>\n",
       "      <th>r_outcome</th>\n",
       "      <th>crime__Intermediate</th>\n",
       "      <th>crime__Major</th>\n",
       "      <th>crime__Minor</th>\n",
       "      <th>crime__Not available</th>\n",
       "    </tr>\n",
       "  </thead>\n",
       "  <tbody>\n",
       "    <tr>\n",
       "      <td>0</td>\n",
       "      <td>41</td>\n",
       "      <td>0</td>\n",
       "      <td>0</td>\n",
       "      <td>0</td>\n",
       "      <td>0</td>\n",
       "      <td>1</td>\n",
       "    </tr>\n",
       "    <tr>\n",
       "      <td>1</td>\n",
       "      <td>41</td>\n",
       "      <td>0</td>\n",
       "      <td>0</td>\n",
       "      <td>0</td>\n",
       "      <td>0</td>\n",
       "      <td>1</td>\n",
       "    </tr>\n",
       "    <tr>\n",
       "      <td>2</td>\n",
       "      <td>41</td>\n",
       "      <td>0</td>\n",
       "      <td>0</td>\n",
       "      <td>0</td>\n",
       "      <td>0</td>\n",
       "      <td>1</td>\n",
       "    </tr>\n",
       "    <tr>\n",
       "      <td>3</td>\n",
       "      <td>41</td>\n",
       "      <td>0</td>\n",
       "      <td>0</td>\n",
       "      <td>0</td>\n",
       "      <td>0</td>\n",
       "      <td>1</td>\n",
       "    </tr>\n",
       "    <tr>\n",
       "      <td>4</td>\n",
       "      <td>41</td>\n",
       "      <td>0</td>\n",
       "      <td>0</td>\n",
       "      <td>0</td>\n",
       "      <td>0</td>\n",
       "      <td>1</td>\n",
       "    </tr>\n",
       "  </tbody>\n",
       "</table>\n",
       "</div>"
      ],
      "text/plain": [
       "   reported_by  r_outcome  crime__Intermediate  crime__Major  crime__Minor  \\\n",
       "0           41          0                    0             0             0   \n",
       "1           41          0                    0             0             0   \n",
       "2           41          0                    0             0             0   \n",
       "3           41          0                    0             0             0   \n",
       "4           41          0                    0             0             0   \n",
       "\n",
       "   crime__Not available  \n",
       "0                     1  \n",
       "1                     1  \n",
       "2                     1  \n",
       "3                     1  \n",
       "4                     1  "
      ]
     },
     "execution_count": 24,
     "metadata": {},
     "output_type": "execute_result"
    }
   ],
   "source": [
    "df_model.head()"
   ]
  },
  {
   "cell_type": "code",
   "execution_count": 25,
   "metadata": {},
   "outputs": [],
   "source": [
    "X = df_model.drop(columns=['r_outcome'])\n",
    "y = df_model[['r_outcome']]"
   ]
  },
  {
   "cell_type": "code",
   "execution_count": 26,
   "metadata": {},
   "outputs": [],
   "source": [
    "X_train, X_test, y_train, y_test = train_test_split(X, y, test_size=0.3, random_state=42)"
   ]
  },
  {
   "cell_type": "code",
   "execution_count": 27,
   "metadata": {},
   "outputs": [
    {
     "data": {
      "text/html": [
       "<div>\n",
       "<style scoped>\n",
       "    .dataframe tbody tr th:only-of-type {\n",
       "        vertical-align: middle;\n",
       "    }\n",
       "\n",
       "    .dataframe tbody tr th {\n",
       "        vertical-align: top;\n",
       "    }\n",
       "\n",
       "    .dataframe thead th {\n",
       "        text-align: right;\n",
       "    }\n",
       "</style>\n",
       "<table border=\"1\" class=\"dataframe\">\n",
       "  <thead>\n",
       "    <tr style=\"text-align: right;\">\n",
       "      <th></th>\n",
       "      <th>r_outcome</th>\n",
       "    </tr>\n",
       "  </thead>\n",
       "  <tbody>\n",
       "    <tr>\n",
       "      <td>757389</td>\n",
       "      <td>0</td>\n",
       "    </tr>\n",
       "    <tr>\n",
       "      <td>1275036</td>\n",
       "      <td>0</td>\n",
       "    </tr>\n",
       "    <tr>\n",
       "      <td>1154389</td>\n",
       "      <td>0</td>\n",
       "    </tr>\n",
       "    <tr>\n",
       "      <td>1525435</td>\n",
       "      <td>2</td>\n",
       "    </tr>\n",
       "    <tr>\n",
       "      <td>744193</td>\n",
       "      <td>0</td>\n",
       "    </tr>\n",
       "  </tbody>\n",
       "</table>\n",
       "</div>"
      ],
      "text/plain": [
       "         r_outcome\n",
       "757389           0\n",
       "1275036          0\n",
       "1154389          0\n",
       "1525435          2\n",
       "744193           0"
      ]
     },
     "execution_count": 27,
     "metadata": {},
     "output_type": "execute_result"
    }
   ],
   "source": [
    "y_train.head()"
   ]
  },
  {
   "cell_type": "code",
   "execution_count": 28,
   "metadata": {},
   "outputs": [
    {
     "name": "stderr",
     "output_type": "stream",
     "text": [
      "/Users/michael/Library/Python/3.7/lib/python/site-packages/sklearn/linear_model/logistic.py:432: FutureWarning: Default solver will be changed to 'lbfgs' in 0.22. Specify a solver to silence this warning.\n",
      "  FutureWarning)\n",
      "/Users/michael/Library/Python/3.7/lib/python/site-packages/sklearn/utils/validation.py:724: DataConversionWarning: A column-vector y was passed when a 1d array was expected. Please change the shape of y to (n_samples, ), for example using ravel().\n",
      "  y = column_or_1d(y, warn=True)\n",
      "/Users/michael/Library/Python/3.7/lib/python/site-packages/sklearn/linear_model/logistic.py:469: FutureWarning: Default multi_class will be changed to 'auto' in 0.22. Specify the multi_class option to silence this warning.\n",
      "  \"this warning.\", FutureWarning)\n"
     ]
    },
    {
     "data": {
      "text/plain": [
       "92.14"
      ]
     },
     "execution_count": 28,
     "metadata": {},
     "output_type": "execute_result"
    }
   ],
   "source": [
    "# Logistic Regression\n",
    "logreg = LogisticRegression(random_state=0).fit(X_train, y_train)\n",
    "\n",
    "acc_log = round(logreg.score(X_test, y_test) * 100, 2)\n",
    "acc_log"
   ]
  },
  {
   "cell_type": "code",
   "execution_count": null,
   "metadata": {},
   "outputs": [
    {
     "name": "stderr",
     "output_type": "stream",
     "text": [
      "/Users/michael/Library/Python/3.7/lib/python/site-packages/sklearn/utils/validation.py:724: DataConversionWarning: A column-vector y was passed when a 1d array was expected. Please change the shape of y to (n_samples, ), for example using ravel().\n",
      "  y = column_or_1d(y, warn=True)\n",
      "/Users/michael/Library/Python/3.7/lib/python/site-packages/sklearn/svm/base.py:193: FutureWarning: The default value of gamma will change from 'auto' to 'scale' in version 0.22 to account better for unscaled features. Set gamma explicitly to 'auto' or 'scale' to avoid this warning.\n",
      "  \"avoid this warning.\", FutureWarning)\n"
     ]
    }
   ],
   "source": [
    "# Support Vector Machines\n",
    "svc = SVC().fit(X_train, y_train)\n",
    "\n",
    "acc_svc = round(svc.score(X_test, y_test) * 100, 2)\n",
    "acc_svc"
   ]
  },
  {
   "cell_type": "code",
   "execution_count": null,
   "metadata": {},
   "outputs": [],
   "source": [
    "#k-Nearest Neighbors\n",
    "knn = KNeighborsClassifier(n_neighbors = 3).fit(X_train, Y_train)\n",
    "\n",
    "acc_knn = round(knn.score(X_test, y_test) * 100, 2)\n",
    "acc_knn"
   ]
  },
  {
   "cell_type": "code",
   "execution_count": null,
   "metadata": {},
   "outputs": [],
   "source": []
  }
 ],
 "metadata": {
  "kernelspec": {
   "display_name": "Python 3",
   "language": "python",
   "name": "python3"
  },
  "language_info": {
   "codemirror_mode": {
    "name": "ipython",
    "version": 3
   },
   "file_extension": ".py",
   "mimetype": "text/x-python",
   "name": "python",
   "nbconvert_exporter": "python",
   "pygments_lexer": "ipython3",
   "version": "3.7.4"
  }
 },
 "nbformat": 4,
 "nbformat_minor": 2
}
