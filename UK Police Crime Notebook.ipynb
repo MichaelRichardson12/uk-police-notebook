{
 "cells": [
  {
   "attachments": {},
   "cell_type": "markdown",
   "metadata": {},
   "source": [
    "![Cover Image](https://github.com/MichaelRichardson12/uk-police-notebook/blob/master/header_image.png?raw=true)"
   ]
  },
  {
   "cell_type": "markdown",
   "metadata": {},
   "source": [
    "# Crime Stats in the UK\n",
    "#### October 2018 - October 2019"
   ]
  },
  {
   "cell_type": "markdown",
   "metadata": {},
   "source": [
    "In this note book I want to have a look at the crimes stats here in the UK for the past year. I am using the data provided by https://data.police.uk/, the data is under [Open Government Licence v3.0](https://www.nationalarchives.gov.uk/doc/open-government-licence/version/3/) license. This is just a personal project to better my data science skills and I hope you can find some interesting conclusions here."
   ]
  },
  {
   "cell_type": "markdown",
   "metadata": {},
   "source": [
    "## Work Flow\n",
    "\n",
    "I am going to use the following work flow:\n",
    "    1. Download the data from the link below and import it using Pandas.\n",
    "    2. Inspect the data to see what information is available.\n",
    "    3. Wrange, clean and prepare the data.\n",
    "    4. Analyze the data.\n",
    "    5. Try to model and predict the data.\n",
    "    6. Visualize, report, and present the findings.\n",
    "    \n",
    "Download link: [https://data.police.uk/data/](https://data.police.uk/data/)\n",
    "Useful links to explain the columns and get the different crime types, [https://data.police.uk/about/](https://data.police.uk/about/), [https://www.police.uk/about-this-site/faqs/#what-do-the-crime-categories-mean](https://www.police.uk/about-this-site/faqs/#what-do-the-crime-categories-mean).\n",
    "\n",
    "The cover picture was taken by Nikolay Dimitrov (@ncipio) from Unsplash."
   ]
  },
  {
   "cell_type": "code",
   "execution_count": 40,
   "metadata": {},
   "outputs": [],
   "source": [
    "import pandas as pd\n",
    "import os\n",
    "import matplotlib.pyplot as plt\n",
    "%matplotlib inline"
   ]
  },
  {
   "cell_type": "code",
   "execution_count": 125,
   "metadata": {},
   "outputs": [
    {
     "name": "stdout",
     "output_type": "stream",
     "text": [
      "['2019-03']\n"
     ]
    }
   ],
   "source": [
    "df = None\n",
    "months = []\n",
    "\n",
    "folder_list = os.listdir('data')\n",
    "for folder in folder_list:\n",
    "    months.append(folder)\n",
    "    for file in os.listdir('data/' + folder):        \n",
    "        df_temp = pd.read_csv('data/' + folder + '/' + file)\n",
    "        df_temp['folder'] = folder\n",
    "        df_temp['file'] = file\n",
    "        \n",
    "        if df is None:\n",
    "            df = df_temp\n",
    "        else:\n",
    "            df = pd.concat([df, df_temp], sort=False, ignore_index=True)\n",
    "        \n",
    "    index += 1\n",
    "\n",
    "    if index > 1:\n",
    "        break\n",
    "print(months)"
   ]
  },
  {
   "cell_type": "code",
   "execution_count": 31,
   "metadata": {},
   "outputs": [
    {
     "data": {
      "text/html": [
       "<div>\n",
       "<style scoped>\n",
       "    .dataframe tbody tr th:only-of-type {\n",
       "        vertical-align: middle;\n",
       "    }\n",
       "\n",
       "    .dataframe tbody tr th {\n",
       "        vertical-align: top;\n",
       "    }\n",
       "\n",
       "    .dataframe thead th {\n",
       "        text-align: right;\n",
       "    }\n",
       "</style>\n",
       "<table border=\"1\" class=\"dataframe\">\n",
       "  <thead>\n",
       "    <tr style=\"text-align: right;\">\n",
       "      <th></th>\n",
       "      <th>Crime ID</th>\n",
       "      <th>Month</th>\n",
       "      <th>Reported by</th>\n",
       "      <th>Falls within</th>\n",
       "      <th>Longitude</th>\n",
       "      <th>Latitude</th>\n",
       "      <th>Location</th>\n",
       "      <th>LSOA code</th>\n",
       "      <th>LSOA name</th>\n",
       "      <th>Outcome type</th>\n",
       "      <th>folder</th>\n",
       "      <th>file</th>\n",
       "      <th>Crime type</th>\n",
       "      <th>Last outcome category</th>\n",
       "      <th>Context</th>\n",
       "    </tr>\n",
       "  </thead>\n",
       "  <tbody>\n",
       "    <tr>\n",
       "      <td>0</td>\n",
       "      <td>a1a5a8d0b1e24d7f8ee52b806c7605c50c8fe839f142a8...</td>\n",
       "      <td>2019-03</td>\n",
       "      <td>West Mercia Police</td>\n",
       "      <td>West Mercia Police</td>\n",
       "      <td>NaN</td>\n",
       "      <td>NaN</td>\n",
       "      <td>No location</td>\n",
       "      <td>NaN</td>\n",
       "      <td>NaN</td>\n",
       "      <td>Unable to prosecute suspect</td>\n",
       "      <td>2019-03</td>\n",
       "      <td>2019-03-west-mercia-outcomes.csv</td>\n",
       "      <td>NaN</td>\n",
       "      <td>NaN</td>\n",
       "      <td>NaN</td>\n",
       "    </tr>\n",
       "    <tr>\n",
       "      <td>1</td>\n",
       "      <td>07f0fe80ff0cfb2c9c701e4b2d799cb03ebc25bca82356...</td>\n",
       "      <td>2019-03</td>\n",
       "      <td>West Mercia Police</td>\n",
       "      <td>West Mercia Police</td>\n",
       "      <td>NaN</td>\n",
       "      <td>NaN</td>\n",
       "      <td>No location</td>\n",
       "      <td>NaN</td>\n",
       "      <td>NaN</td>\n",
       "      <td>Unable to prosecute suspect</td>\n",
       "      <td>2019-03</td>\n",
       "      <td>2019-03-west-mercia-outcomes.csv</td>\n",
       "      <td>NaN</td>\n",
       "      <td>NaN</td>\n",
       "      <td>NaN</td>\n",
       "    </tr>\n",
       "    <tr>\n",
       "      <td>2</td>\n",
       "      <td>843e533914dd107c15506ffc847f646d61b47c543a9999...</td>\n",
       "      <td>2019-03</td>\n",
       "      <td>West Mercia Police</td>\n",
       "      <td>West Mercia Police</td>\n",
       "      <td>NaN</td>\n",
       "      <td>NaN</td>\n",
       "      <td>No location</td>\n",
       "      <td>NaN</td>\n",
       "      <td>NaN</td>\n",
       "      <td>Investigation complete; no suspect identified</td>\n",
       "      <td>2019-03</td>\n",
       "      <td>2019-03-west-mercia-outcomes.csv</td>\n",
       "      <td>NaN</td>\n",
       "      <td>NaN</td>\n",
       "      <td>NaN</td>\n",
       "    </tr>\n",
       "    <tr>\n",
       "      <td>3</td>\n",
       "      <td>891b76792b62c4aa3292184bafb752caf3e7ef2e958f5c...</td>\n",
       "      <td>2019-03</td>\n",
       "      <td>West Mercia Police</td>\n",
       "      <td>West Mercia Police</td>\n",
       "      <td>NaN</td>\n",
       "      <td>NaN</td>\n",
       "      <td>No location</td>\n",
       "      <td>NaN</td>\n",
       "      <td>NaN</td>\n",
       "      <td>Unable to prosecute suspect</td>\n",
       "      <td>2019-03</td>\n",
       "      <td>2019-03-west-mercia-outcomes.csv</td>\n",
       "      <td>NaN</td>\n",
       "      <td>NaN</td>\n",
       "      <td>NaN</td>\n",
       "    </tr>\n",
       "    <tr>\n",
       "      <td>4</td>\n",
       "      <td>a542cc68dbd9a5a0d9a2030435565e91835770cf73a25a...</td>\n",
       "      <td>2019-03</td>\n",
       "      <td>West Mercia Police</td>\n",
       "      <td>West Mercia Police</td>\n",
       "      <td>NaN</td>\n",
       "      <td>NaN</td>\n",
       "      <td>No location</td>\n",
       "      <td>NaN</td>\n",
       "      <td>NaN</td>\n",
       "      <td>Unable to prosecute suspect</td>\n",
       "      <td>2019-03</td>\n",
       "      <td>2019-03-west-mercia-outcomes.csv</td>\n",
       "      <td>NaN</td>\n",
       "      <td>NaN</td>\n",
       "      <td>NaN</td>\n",
       "    </tr>\n",
       "  </tbody>\n",
       "</table>\n",
       "</div>"
      ],
      "text/plain": [
       "                                            Crime ID    Month  \\\n",
       "0  a1a5a8d0b1e24d7f8ee52b806c7605c50c8fe839f142a8...  2019-03   \n",
       "1  07f0fe80ff0cfb2c9c701e4b2d799cb03ebc25bca82356...  2019-03   \n",
       "2  843e533914dd107c15506ffc847f646d61b47c543a9999...  2019-03   \n",
       "3  891b76792b62c4aa3292184bafb752caf3e7ef2e958f5c...  2019-03   \n",
       "4  a542cc68dbd9a5a0d9a2030435565e91835770cf73a25a...  2019-03   \n",
       "\n",
       "          Reported by        Falls within  Longitude  Latitude     Location  \\\n",
       "0  West Mercia Police  West Mercia Police        NaN       NaN  No location   \n",
       "1  West Mercia Police  West Mercia Police        NaN       NaN  No location   \n",
       "2  West Mercia Police  West Mercia Police        NaN       NaN  No location   \n",
       "3  West Mercia Police  West Mercia Police        NaN       NaN  No location   \n",
       "4  West Mercia Police  West Mercia Police        NaN       NaN  No location   \n",
       "\n",
       "  LSOA code LSOA name                                   Outcome type   folder  \\\n",
       "0       NaN       NaN                    Unable to prosecute suspect  2019-03   \n",
       "1       NaN       NaN                    Unable to prosecute suspect  2019-03   \n",
       "2       NaN       NaN  Investigation complete; no suspect identified  2019-03   \n",
       "3       NaN       NaN                    Unable to prosecute suspect  2019-03   \n",
       "4       NaN       NaN                    Unable to prosecute suspect  2019-03   \n",
       "\n",
       "                               file Crime type Last outcome category  Context  \n",
       "0  2019-03-west-mercia-outcomes.csv        NaN                   NaN      NaN  \n",
       "1  2019-03-west-mercia-outcomes.csv        NaN                   NaN      NaN  \n",
       "2  2019-03-west-mercia-outcomes.csv        NaN                   NaN      NaN  \n",
       "3  2019-03-west-mercia-outcomes.csv        NaN                   NaN      NaN  \n",
       "4  2019-03-west-mercia-outcomes.csv        NaN                   NaN      NaN  "
      ]
     },
     "execution_count": 31,
     "metadata": {},
     "output_type": "execute_result"
    }
   ],
   "source": [
    "df.head()"
   ]
  },
  {
   "cell_type": "code",
   "execution_count": 32,
   "metadata": {},
   "outputs": [],
   "source": [
    "df = df.dropna(subset=['Latitude', 'Longitude'])"
   ]
  },
  {
   "cell_type": "markdown",
   "metadata": {},
   "source": [
    "https://data.police.uk/about/"
   ]
  },
  {
   "cell_type": "markdown",
   "metadata": {},
   "source": [
    "https://www.police.uk/about-this-site/faqs/#what-do-the-crime-categories-mean"
   ]
  },
  {
   "cell_type": "code",
   "execution_count": 33,
   "metadata": {},
   "outputs": [
    {
     "data": {
      "text/plain": [
       "array([nan, 'Violence and sexual offences', 'Burglary',\n",
       "       'Criminal damage and arson', 'Other theft', 'Robbery',\n",
       "       'Public order', 'Shoplifting', 'Vehicle crime', 'Drugs',\n",
       "       'Possession of weapons', 'Anti-social behaviour', 'Bicycle theft',\n",
       "       'Theft from the person', 'Other crime'], dtype=object)"
      ]
     },
     "execution_count": 33,
     "metadata": {},
     "output_type": "execute_result"
    }
   ],
   "source": [
    "df['Crime type'].unique()"
   ]
  },
  {
   "cell_type": "code",
   "execution_count": 37,
   "metadata": {},
   "outputs": [
    {
     "data": {
      "text/plain": [
       "folder\n",
       "2019-03    1\n",
       "2019-04    1\n",
       "Name: folder, dtype: int64"
      ]
     },
     "execution_count": 37,
     "metadata": {},
     "output_type": "execute_result"
    }
   ],
   "source": [
    "df.groupby(['folder'])['folder'].nunique()"
   ]
  },
  {
   "cell_type": "code",
   "execution_count": 36,
   "metadata": {},
   "outputs": [
    {
     "data": {
      "text/plain": [
       "1848681"
      ]
     },
     "execution_count": 36,
     "metadata": {},
     "output_type": "execute_result"
    }
   ],
   "source": [
    "len(df.index)"
   ]
  },
  {
   "cell_type": "code",
   "execution_count": 91,
   "metadata": {},
   "outputs": [],
   "source": [
    "# # df_crimes_per_month = df.groupby(['folder', 'Crime type'])['Crime type'].count()\n",
    "# df_crimes_pm = pd.DataFrame({'count' : df.groupby(['folder', 'Crime type']).value_counts()}).reset_index()\n",
    "# # df_crimes_pm = df[['folder', 'Crime type']].groupby(['folder', 'Crime type']).counts()\n",
    "# type(df_crimes_pm)\n",
    "\n",
    "# # df_crimes_pm = df_crimes_pm.loc[df_crimes_pm['folder'] == '2019-03']\n",
    "# # df_crimes_pm"
   ]
  },
  {
   "cell_type": "code",
   "execution_count": 138,
   "metadata": {},
   "outputs": [
    {
     "data": {
      "text/html": [
       "<div>\n",
       "<style scoped>\n",
       "    .dataframe tbody tr th:only-of-type {\n",
       "        vertical-align: middle;\n",
       "    }\n",
       "\n",
       "    .dataframe tbody tr th {\n",
       "        vertical-align: top;\n",
       "    }\n",
       "\n",
       "    .dataframe thead th {\n",
       "        text-align: right;\n",
       "    }\n",
       "</style>\n",
       "<table border=\"1\" class=\"dataframe\">\n",
       "  <thead>\n",
       "    <tr style=\"text-align: right;\">\n",
       "      <th></th>\n",
       "      <th>folder</th>\n",
       "      <th>Outcome type</th>\n",
       "      <th>0</th>\n",
       "    </tr>\n",
       "  </thead>\n",
       "  <tbody>\n",
       "    <tr>\n",
       "      <td>0</td>\n",
       "      <td>2019-03</td>\n",
       "      <td>Action to be taken by another organisation</td>\n",
       "      <td>4983</td>\n",
       "    </tr>\n",
       "    <tr>\n",
       "      <td>1</td>\n",
       "      <td>2019-03</td>\n",
       "      <td>Court case unable to proceed</td>\n",
       "      <td>1631</td>\n",
       "    </tr>\n",
       "    <tr>\n",
       "      <td>2</td>\n",
       "      <td>2019-03</td>\n",
       "      <td>Defendant found not guilty</td>\n",
       "      <td>2811</td>\n",
       "    </tr>\n",
       "    <tr>\n",
       "      <td>3</td>\n",
       "      <td>2019-03</td>\n",
       "      <td>Defendant sent to Crown Court</td>\n",
       "      <td>335</td>\n",
       "    </tr>\n",
       "    <tr>\n",
       "      <td>4</td>\n",
       "      <td>2019-03</td>\n",
       "      <td>Formal action is not in the public interest</td>\n",
       "      <td>3760</td>\n",
       "    </tr>\n",
       "    <tr>\n",
       "      <td>5</td>\n",
       "      <td>2019-03</td>\n",
       "      <td>Further investigation is not in the public int...</td>\n",
       "      <td>5714</td>\n",
       "    </tr>\n",
       "    <tr>\n",
       "      <td>6</td>\n",
       "      <td>2019-03</td>\n",
       "      <td>Investigation complete; no suspect identified</td>\n",
       "      <td>178709</td>\n",
       "    </tr>\n",
       "    <tr>\n",
       "      <td>7</td>\n",
       "      <td>2019-03</td>\n",
       "      <td>Local resolution</td>\n",
       "      <td>9888</td>\n",
       "    </tr>\n",
       "    <tr>\n",
       "      <td>8</td>\n",
       "      <td>2019-03</td>\n",
       "      <td>Offender deprived of property</td>\n",
       "      <td>187</td>\n",
       "    </tr>\n",
       "    <tr>\n",
       "      <td>9</td>\n",
       "      <td>2019-03</td>\n",
       "      <td>Offender fined</td>\n",
       "      <td>2417</td>\n",
       "    </tr>\n",
       "    <tr>\n",
       "      <td>10</td>\n",
       "      <td>2019-03</td>\n",
       "      <td>Offender given a caution</td>\n",
       "      <td>6232</td>\n",
       "    </tr>\n",
       "    <tr>\n",
       "      <td>11</td>\n",
       "      <td>2019-03</td>\n",
       "      <td>Offender given a drugs possession warning</td>\n",
       "      <td>1832</td>\n",
       "    </tr>\n",
       "    <tr>\n",
       "      <td>12</td>\n",
       "      <td>2019-03</td>\n",
       "      <td>Offender given absolute discharge</td>\n",
       "      <td>41</td>\n",
       "    </tr>\n",
       "    <tr>\n",
       "      <td>13</td>\n",
       "      <td>2019-03</td>\n",
       "      <td>Offender given community sentence</td>\n",
       "      <td>4874</td>\n",
       "    </tr>\n",
       "    <tr>\n",
       "      <td>14</td>\n",
       "      <td>2019-03</td>\n",
       "      <td>Offender given conditional discharge</td>\n",
       "      <td>1604</td>\n",
       "    </tr>\n",
       "    <tr>\n",
       "      <td>15</td>\n",
       "      <td>2019-03</td>\n",
       "      <td>Offender given penalty notice</td>\n",
       "      <td>1077</td>\n",
       "    </tr>\n",
       "    <tr>\n",
       "      <td>16</td>\n",
       "      <td>2019-03</td>\n",
       "      <td>Offender given suspended prison sentence</td>\n",
       "      <td>1933</td>\n",
       "    </tr>\n",
       "    <tr>\n",
       "      <td>17</td>\n",
       "      <td>2019-03</td>\n",
       "      <td>Offender ordered to pay compensation</td>\n",
       "      <td>401</td>\n",
       "    </tr>\n",
       "    <tr>\n",
       "      <td>18</td>\n",
       "      <td>2019-03</td>\n",
       "      <td>Offender otherwise dealt with</td>\n",
       "      <td>489</td>\n",
       "    </tr>\n",
       "    <tr>\n",
       "      <td>19</td>\n",
       "      <td>2019-03</td>\n",
       "      <td>Offender sent to prison</td>\n",
       "      <td>5775</td>\n",
       "    </tr>\n",
       "    <tr>\n",
       "      <td>20</td>\n",
       "      <td>2019-03</td>\n",
       "      <td>Suspect charged</td>\n",
       "      <td>39243</td>\n",
       "    </tr>\n",
       "    <tr>\n",
       "      <td>21</td>\n",
       "      <td>2019-03</td>\n",
       "      <td>Suspect charged as part of another case</td>\n",
       "      <td>478</td>\n",
       "    </tr>\n",
       "    <tr>\n",
       "      <td>22</td>\n",
       "      <td>2019-03</td>\n",
       "      <td>Unable to prosecute suspect</td>\n",
       "      <td>127484</td>\n",
       "    </tr>\n",
       "  </tbody>\n",
       "</table>\n",
       "</div>"
      ],
      "text/plain": [
       "     folder                                       Outcome type       0\n",
       "0   2019-03         Action to be taken by another organisation    4983\n",
       "1   2019-03                       Court case unable to proceed    1631\n",
       "2   2019-03                         Defendant found not guilty    2811\n",
       "3   2019-03                      Defendant sent to Crown Court     335\n",
       "4   2019-03        Formal action is not in the public interest    3760\n",
       "5   2019-03  Further investigation is not in the public int...    5714\n",
       "6   2019-03      Investigation complete; no suspect identified  178709\n",
       "7   2019-03                                   Local resolution    9888\n",
       "8   2019-03                      Offender deprived of property     187\n",
       "9   2019-03                                     Offender fined    2417\n",
       "10  2019-03                           Offender given a caution    6232\n",
       "11  2019-03          Offender given a drugs possession warning    1832\n",
       "12  2019-03                  Offender given absolute discharge      41\n",
       "13  2019-03                  Offender given community sentence    4874\n",
       "14  2019-03               Offender given conditional discharge    1604\n",
       "15  2019-03                      Offender given penalty notice    1077\n",
       "16  2019-03           Offender given suspended prison sentence    1933\n",
       "17  2019-03               Offender ordered to pay compensation     401\n",
       "18  2019-03                      Offender otherwise dealt with     489\n",
       "19  2019-03                            Offender sent to prison    5775\n",
       "20  2019-03                                    Suspect charged   39243\n",
       "21  2019-03            Suspect charged as part of another case     478\n",
       "22  2019-03                        Unable to prosecute suspect  127484"
      ]
     },
     "execution_count": 138,
     "metadata": {},
     "output_type": "execute_result"
    }
   ],
   "source": [
    "df_crimes_pm = df.groupby(['folder','Crime type']).size().reset_index()\n",
    "df_crimes_pm.rename(columns={'Crime type': 'crime_type', 0:'count'}, inplace=True)\n",
    "df_crimes_pm = df_crimes_pm.loc[df_crimes_pm['folder'] == '2019-03']\n",
    "\n",
    "df.groupby(['folder','Outcome type']).size().reset_index()"
   ]
  },
  {
   "cell_type": "code",
   "execution_count": 136,
   "metadata": {},
   "outputs": [
    {
     "data": {
      "image/png": "[encoded data removed]",
      "text/plain": [
       "<Figure size 432x288 with 1 Axes>"
      ]
     },
     "metadata": {
      "needs_background": "light"
     },
     "output_type": "display_data"
    }
   ],
   "source": [
    "plt.bar(df_crimes_pm.crime_type, df_crimes_pm['count'], align='center', alpha=0.5)\n",
    "plt.plot(df_crimes_pm.crime_type, df_crimes_pm['count'], lw=2, c='r', alpha=0.5)\n",
    "plt.xticks(rotation=90)\n",
    "plt.ylabel('Count')\n",
    "plt.xlabel('Crime')\n",
    "plt.title('Crimes in a month')\n",
    "\n",
    "plt.show()"
   ]
  }
 ],
 "metadata": {
  "kernelspec": {
   "display_name": "Python 3",
   "language": "python",
   "name": "python3"
  },
  "language_info": {
   "codemirror_mode": {
    "name": "ipython",
    "version": 3
   },
   "file_extension": ".py",
   "mimetype": "text/x-python",
   "name": "python",
   "nbconvert_exporter": "python",
   "pygments_lexer": "ipython3",
   "version": "3.7.4"
  }
 },
 "nbformat": 4,
 "nbformat_minor": 2
}
